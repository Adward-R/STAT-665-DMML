{
 "cells": [
  {
   "cell_type": "code",
   "execution_count": 11,
   "metadata": {
    "collapsed": false
   },
   "outputs": [],
   "source": [
    "import numpy as np\n",
    "import pandas as pd\n",
    "from pandas import Series, DataFrame\n",
    "from sklearn.linear_model import LogisticRegression\n",
    "from sklearn.preprocessing import scale\n",
    "from sklearn.neighbors import KNeighborsRegressor\n",
    "from HW2_kd538_knnclass import *"
   ]
  },
  {
   "cell_type": "code",
   "execution_count": 12,
   "metadata": {
    "collapsed": false
   },
   "outputs": [
    {
     "data": {
      "text/plain": [
       "(None, None)"
      ]
     },
     "execution_count": 12,
     "metadata": {},
     "output_type": "execute_result"
    }
   ],
   "source": [
    "# Import data (57 predictors & 1 response variable), standardize and impute missing 'NaN' values\n",
    "col_names = \"word_freq_make,word_freq_address,word_freq_all,word_freq_3d,word_freq_our,word_freq_over,word_freq_remove,word_freq_internet,word_freq_order,word_freq_mail,word_freq_receive,word_freq_will,word_freq_people,word_freq_report,word_freq_addresses,word_freq_free,word_freq_business,word_freq_email,word_freq_you,word_freq_credit,word_freq_your,word_freq_font,word_freq_000,word_freq_money,word_freq_hp,word_freq_hpl,word_freq_george,word_freq_650,word_freq_lab,word_freq_labs,word_freq_telnet,word_freq_857,word_freq_data,word_freq_415,word_freq_85,word_freq_technology,word_freq_1999,word_freq_parts,word_freq_pm,word_freq_direct,word_freq_cs,word_freq_meeting,word_freq_original,word_freq_project,word_freq_re,word_freq_edu,word_freq_table,word_freq_conference,char_freq_;,char_freq_(,char_freq_[,char_freq_!,char_freq_$,char_freq_#,capital_run_length_average,capital_run_length_longest,capital_run_length_total\".split(',')\n",
    "CRLA = 'capital_run_length_average'\n",
    "imp_cols = [name for name in col_names if name != CRLA]\n",
    "\n",
    "def knn_imputer(df):\n",
    "    global CRLA\n",
    "    row_selector = np.isnan(df[CRLA])\n",
    "    df.loc[:, imp_cols] = scale(df.loc[:, imp_cols])  # standardize all predictor columns except CRLA\n",
    "    imp_train, imp_target = df.loc[~row_selector], df.loc[row_selector]  # split either train or test set by row\n",
    "    knn_reg = KNeighborsRegressor(n_neighbors=15)  # using 'uniform' weighting option by default\n",
    "    df.loc[row_selector, CRLA] = knn_reg.fit(imp_train[imp_cols], imp_train[CRLA]).predict(imp_target[imp_cols])\n",
    "    df.loc[:, CRLA] = scale(df.loc[:, CRLA])  # after filling in predictor CRLA's missing values, scale it\n",
    "    \n",
    "df_train, df_test = pd.read_csv('spam_train.csv'), pd.read_csv('spam_test.csv')\n",
    "knn_imputer(df_train), knn_imputer(df_test)"
   ]
  },
  {
   "cell_type": "code",
   "execution_count": 14,
   "metadata": {
    "collapsed": false
   },
   "outputs": [
    {
     "name": "stdout",
     "output_type": "stream",
     "text": [
      "Finished validating kNN with k = 1 using 15.85199499130249 s\n",
      "Finished validating kNN with k = 2 using 14.638240098953247 s\n",
      "Finished validating kNN with k = 3 using 15.665126085281372 s\n",
      "Finished validating kNN with k = 4 using 14.387913942337036 s\n",
      "Finished validating kNN with k = 5 using 14.571433067321777 s\n",
      "Finished validating kNN with k = 6 using 14.677398204803467 s\n",
      "Finished validating kNN with k = 7 using 13.794611930847168 s\n",
      "Finished validating kNN with k = 8 using 14.232501029968262 s\n",
      "Finished validating kNN with k = 9 using 13.881855010986328 s\n",
      "Finished validating kNN with k = 2 using 44.041000843048096 s\n",
      "Finished validating kNN with k = 1 using 14.431267023086548 s\n",
      "Finished validating kNN with k = 2 using 14.893342018127441 s\n",
      "Finished validating kNN with k = 3 using 14.412198066711426 s\n",
      "Finished validating kNN with k = 4 using 15.320875883102417 s\n",
      "Finished validating kNN with k = 5 using 14.919965028762817 s\n",
      "Finished validating kNN with k = 6 using 14.661801815032959 s\n",
      "Finished validating kNN with k = 7 using 15.099815845489502 s\n",
      "Finished validating kNN with k = 8 using 15.122912883758545 s\n",
      "Finished validating kNN with k = 9 using 14.713690996170044 s\n",
      "Finished validating kNN with k = 2 using 45.78156805038452 s\n"
     ]
    }
   ],
   "source": [
    "# Create two kNN prediction results on test set\n",
    "knn_pred1 = knnclass(df_train[imp_cols].values, df_test[imp_cols].values, df_train['spam'].values)\n",
    "knn_pred2 = knnclass(df_train[col_names].values, df_test[col_names].values, df_train['spam'].values)"
   ]
  },
  {
   "cell_type": "code",
   "execution_count": 13,
   "metadata": {
    "collapsed": false
   },
   "outputs": [
    {
     "name": "stdout",
     "output_type": "stream",
     "text": [
      "        Coef                  Predictors\n",
      "26 -3.485758            word_freq_george\n",
      "24 -2.215901                word_freq_hp\n",
      "41 -1.340466           word_freq_meeting\n",
      "45 -1.185862               word_freq_edu\n",
      "40 -1.153077                word_freq_cs\n",
      "28 -0.963020               word_freq_lab\n",
      "47 -0.925161        word_freq_conference\n",
      "25 -0.905587               word_freq_hpl\n",
      "44 -0.831717                word_freq_re\n",
      "43 -0.805362           word_freq_project\n",
      "34 -0.619084                word_freq_85\n",
      "30 -0.569292            word_freq_telnet\n",
      "38 -0.458678                word_freq_pm\n",
      "32 -0.424300              word_freq_data\n",
      "48 -0.297504                 char_freq_;\n",
      "1  -0.229850           word_freq_address\n",
      "39 -0.227290            word_freq_direct\n",
      "31 -0.220676               word_freq_857\n",
      "42 -0.151667          word_freq_original\n",
      "50 -0.138896                 char_freq_[\n",
      "29 -0.124300              word_freq_labs\n",
      "37 -0.116096             word_freq_parts\n",
      "33 -0.111995               word_freq_415\n",
      "11 -0.089411              word_freq_will\n",
      "0  -0.073164              word_freq_make\n",
      "46 -0.060799             word_freq_table\n",
      "12 -0.055348            word_freq_people\n",
      "10 -0.044449           word_freq_receive\n",
      "36  0.007380              word_freq_1999\n",
      "49  0.019019                 char_freq_(\n",
      "13  0.047617            word_freq_report\n",
      "8   0.077222             word_freq_order\n",
      "2   0.103286               word_freq_all\n",
      "17  0.105232             word_freq_email\n",
      "9   0.124572              word_freq_mail\n",
      "18  0.138459               word_freq_you\n",
      "27  0.156625               word_freq_650\n",
      "5   0.181354              word_freq_over\n",
      "51  0.241167                 char_freq_!\n",
      "7   0.249943          word_freq_internet\n",
      "14  0.270589         word_freq_addresses\n",
      "21  0.296029              word_freq_font\n",
      "56  0.296216    capital_run_length_total\n",
      "35  0.332548        word_freq_technology\n",
      "20  0.340451              word_freq_your\n",
      "4   0.350234               word_freq_our\n",
      "16  0.424378          word_freq_business\n",
      "23  0.439591             word_freq_money\n",
      "19  0.570150            word_freq_credit\n",
      "53  0.668915                 char_freq_#\n",
      "15  0.754163              word_freq_free\n",
      "3   0.754537                word_freq_3d\n",
      "6   0.787361            word_freq_remove\n",
      "22  0.892692               word_freq_000\n",
      "54  0.945506  capital_run_length_average\n",
      "52  0.967219                 char_freq_$\n",
      "55  1.923230  capital_run_length_longest\n"
     ]
    }
   ],
   "source": [
    "# Create two logistic regression results on test set\n",
    "lr = LogisticRegression()\n",
    "logm_pred1 = lr.fit(df_train[imp_cols], df_train['spam']).predict(df_test[imp_cols])\n",
    "logm_pred2 = lr.fit(df_train[col_names], df_train['spam']).predict(df_test[col_names])\n",
    "coef_table = DataFrame({'Predictors': col_names, 'Coef': lr.coef_[0]}).sort_values(by='Coef', axis=0)\n",
    "print(coef_table)\n",
    "\n",
    "# The most significant variables are 'word_freq_george', 'word_freq_hp', 'capital_run_length_longest', \n",
    "# 'word_freq_meeting', 'word_freq_edu' and 'word_freq_cs', from the following display of coefficients DataFrame.\n",
    "\n",
    "# It is interesting to see 'word_freq_george' has a great impact on classifying whether the email is spam or not,\n",
    "# while frequency of some words regarding technology connotations (hp, cs, edu, conference) also helps to distinguish;\n",
    "# information about capital letters are mostly significant, recalling basic knowledges of emotional analysis."
   ]
  },
  {
   "cell_type": "code",
   "execution_count": 16,
   "metadata": {
    "collapsed": false
   },
   "outputs": [],
   "source": [
    "# Result combining & outporting to csv\n",
    "DataFrame({'capital_run_length_average': df_test[CRLA], \n",
    "           'knn_pred1': knn_pred1, \n",
    "           'knn_pred2': knn_pred2, \n",
    "           'logm_pred1': logm_pred1, \n",
    "           'logm_pred2': logm_pred2}).to_csv('HW2_kd538_results.csv')"
   ]
  }
 ],
 "metadata": {
  "kernelspec": {
   "display_name": "Python 3",
   "language": "python",
   "name": "python3"
  },
  "language_info": {
   "codemirror_mode": {
    "name": "ipython",
    "version": 3
   },
   "file_extension": ".py",
   "mimetype": "text/x-python",
   "name": "python",
   "nbconvert_exporter": "python",
   "pygments_lexer": "ipython3",
   "version": "3.4.3"
  }
 },
 "nbformat": 4,
 "nbformat_minor": 2
}
