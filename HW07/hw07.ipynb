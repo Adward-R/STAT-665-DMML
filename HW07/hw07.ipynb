{
 "cells": [
  {
   "cell_type": "code",
   "execution_count": 22,
   "metadata": {
    "collapsed": true
   },
   "outputs": [],
   "source": [
    "import numpy as np\n",
    "import pandas as pd\n",
    "from pandas import Series, DataFrame\n",
    "import matplotlib.pyplot as plt\n",
    "from sklearn.tree import DecisionTreeClassifier, export_graphviz\n",
    "# from IPython.display import Image\n",
    "import graphviz\n",
    "from sklearn.preprocessing import Imputer\n",
    "from io import StringIO"
   ]
  },
  {
   "cell_type": "code",
   "execution_count": 23,
   "metadata": {},
   "outputs": [],
   "source": [
    "df_test = pd.read_csv('internetads_test.csv', encoding='gbk', na_values=['?'])\n",
    "df_train = pd.read_csv('internetads_train.csv', encoding='gbk', na_values=['?'])\n",
    "predictors = list(df_test)\n",
    "respond_val = predictors.pop()\n",
    "\n",
    "X_train = df_train.loc[:, predictors]\n",
    "y_train = df_train[respond_val]\n",
    "X_test = df_test.loc[:, predictors]\n",
    "y_test = df_test[respond_val]"
   ]
  },
  {
   "cell_type": "code",
   "execution_count": 24,
   "metadata": {},
   "outputs": [],
   "source": [
    "def isInt(series):\n",
    "    for entry in series:\n",
    "        try:\n",
    "            _ = int(entry)\n",
    "        except ValueError:\n",
    "            if not entry.strip() == '?':\n",
    "                return False\n",
    "    return True\n",
    "\n",
    "\n",
    "def clean_type_by_col(df):\n",
    "    nan = float('NaN')\n",
    "    for col in predictors:\n",
    "        if df[col].dtypes == 'object':\n",
    "            if isInt(df[col]):\n",
    "                df[col] = [int(d) if d.strip() != '?' else nan for d in df[col]]\n",
    "            else:\n",
    "                df[col] = [float(d) if d.strip() != '?' else nan for d in df[col]]\n",
    "        # else:\n",
    "        #     df[col] = [d if d.strip() != '?' else nan for d in df[col]]\n",
    "\n",
    "clean_type_by_col(X_train)\n",
    "clean_type_by_col(X_test)"
   ]
  },
  {
   "cell_type": "code",
   "execution_count": 25,
   "metadata": {},
   "outputs": [],
   "source": [
    "imp = Imputer(strategy='most_frequent', axis=0)  # by column\n",
    "X_train = imp.fit_transform(X_train)\n",
    "X_test = imp.fit_transform(X_test)"
   ]
  },
  {
   "cell_type": "code",
   "execution_count": 29,
   "metadata": {},
   "outputs": [
    {
     "name": "stdout",
     "output_type": "stream",
     "text": [
      "Tree max_depth=3, error rate=0.060\nTree max_depth=5, error rate=0.054\n"
     ]
    }
   ],
   "source": [
    "def plot_tree(clf, plot_name):\n",
    "    dot_data = StringIO()\n",
    "    export_graphviz(clf, out_file=dot_data, feature_names=predictors, \n",
    "                    class_names=['ad.', 'nonad.'], filled=True, \n",
    "                    rounded=True, special_characters=True)\n",
    "    graphviz.Source(dot_data.getvalue()).render(plot_name, view=False)\n",
    "\n",
    "for max_depth in (3, 5):\n",
    "    tree = DecisionTreeClassifier(max_depth=max_depth)\n",
    "    tree.fit(X_train, y_train)\n",
    "    plot_tree(tree, 'depth_{:d}_tree'.format(max_depth))\n",
    "    error_rate = sum(tree.predict(X_test) != y_test) / len(y_test)\n",
    "    print('Tree max_depth={:d}, error rate={:.3f}'.format(max_depth, error_rate))"
   ]
  },
  {
   "cell_type": "code",
   "execution_count": null,
   "metadata": {},
   "outputs": [],
   "source": [
    ""
   ]
  }
 ],
 "metadata": {
  "kernelspec": {
   "display_name": "Python 2",
   "language": "python",
   "name": "python2"
  },
  "language_info": {
   "codemirror_mode": {
    "name": "ipython",
    "version": 2.0
   },
   "file_extension": ".py",
   "mimetype": "text/x-python",
   "name": "python",
   "nbconvert_exporter": "python",
   "pygments_lexer": "ipython2",
   "version": "2.7.6"
  }
 },
 "nbformat": 4,
 "nbformat_minor": 0
}