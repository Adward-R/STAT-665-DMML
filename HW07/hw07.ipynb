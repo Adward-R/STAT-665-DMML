{
 "cells": [
  {
   "cell_type": "code",
   "execution_count": 8,
   "metadata": {
    "collapsed": true
   },
   "outputs": [],
   "source": [
    "import numpy as np\n",
    "import pandas as pd\n",
    "from pandas import Series, DataFrame\n",
    "import matplotlib.pyplot as plt\n",
    "from sklearn.tree import DecisionTreeClassifier, export_graphviz\n",
    "from sklearn.ensemble import RandomForestClassifier\n",
    "# from IPython.display import Image\n",
    "import graphviz\n",
    "from sklearn.preprocessing import Imputer\n",
    "from io import StringIO\n",
    "from sklearn.metrics import confusion_matrix"
   ]
  },
  {
   "cell_type": "code",
   "execution_count": 2,
   "metadata": {
    "collapsed": true
   },
   "outputs": [],
   "source": [
    "# Read in the data and split each part into X (predictors) and y (target value)\n",
    "df_test = pd.read_csv('internetads_test.csv', encoding='gbk', na_values=['?'])\n",
    "df_train = pd.read_csv('internetads_train.csv', encoding='gbk', na_values=['?'])\n",
    "predictors = list(df_test)  # list of all feature names\n",
    "respond_val = predictors.pop()  # target name: class\n",
    "\n",
    "X_train = df_train.loc[:, predictors]\n",
    "y_train = df_train[respond_val]\n",
    "X_test = df_test.loc[:, predictors]\n",
    "y_test = df_test[respond_val]"
   ]
  },
  {
   "cell_type": "code",
   "execution_count": 3,
   "metadata": {
    "collapsed": true
   },
   "outputs": [],
   "source": [
    "# Part-I: Preprocessing, data cleaning\n",
    "def isInt(series):  # take a column as input, known its dtype as int or float\n",
    "    for entry in series:\n",
    "        try:  # try to convert each entry into integer\n",
    "            _ = int(entry)\n",
    "        except ValueError:  # once cannot be done, the entry may be missing value or the whole column is float type\n",
    "            if not entry.strip() == '?':\n",
    "                return False\n",
    "    return True\n",
    "\n",
    "\n",
    "def clean_type_by_col(df):  # replace each '?' with NaN for convenience of applying Imputer\n",
    "    nan = float('NaN')\n",
    "    for col in predictors:\n",
    "        if df[col].dtypes == 'object':  # contains str type, caused by any '?' in this column\n",
    "            if isInt(df[col]):\n",
    "                df[col] = [int(d) if d.strip() != '?' else nan for d in df[col]]\n",
    "            else:\n",
    "                df[col] = [float(d) if d.strip() != '?' else nan for d in df[col]]\n",
    "\n",
    "clean_type_by_col(X_train)\n",
    "clean_type_by_col(X_test)"
   ]
  },
  {
   "cell_type": "code",
   "execution_count": 4,
   "metadata": {
    "collapsed": true
   },
   "outputs": [],
   "source": [
    "# Part-I Cont.\n",
    "# Substitute missing value with mode value of the column\n",
    "# because the number of missing entries in each column is not ignorable\n",
    "imp = Imputer(strategy='most_frequent', axis=0)  # by column\n",
    "X_train = imp.fit_transform(X_train)\n",
    "X_test = imp.fit_transform(X_test)"
   ]
  },
  {
   "cell_type": "code",
   "execution_count": 14,
   "metadata": {
    "collapsed": false
   },
   "outputs": [
    {
     "name": "stdout",
     "output_type": "stream",
     "text": [
      "Tree max_depth=5, error rate=0.053\n",
      "Tree max_depth=3, error rate=0.062\n"
     ]
    }
   ],
   "source": [
    "# Part-II: Tree Fitting and Plotting\n",
    "\n",
    "def plot_tree(clf, plot_name):  # Structural figures exported into the working directory as pdf\n",
    "    dot_data = StringIO()\n",
    "    export_graphviz(clf, out_file=dot_data, feature_names=predictors, \n",
    "                    class_names=['ad.', 'nonad.'], filled=True, \n",
    "                    rounded=True, special_characters=True)\n",
    "    graphviz.Source(dot_data.getvalue()).render(plot_name, view=False)\n",
    "\n",
    "for max_depth in (5, 3):\n",
    "    tree = DecisionTreeClassifier(max_depth=max_depth)\n",
    "    tree.fit(X_train, y_train)\n",
    "    plot_tree(tree, 'depth_{:d}_tree'.format(max_depth))\n",
    "    y_pred = tree.predict(X_test)\n",
    "    error_rate = sum(y_pred != y_test) / len(y_test)\n",
    "    print('Tree max_depth={:d}, error rate={:.3f}'.format(max_depth, error_rate))\n",
    "    \n",
    "\n",
    "#     For max_depth=3 case, \n",
    "#         the 1st level feature used for classification is 'desturl_com', \n",
    "#         2nd level contains 'url_ads' and 'desturl_readersndex',\n",
    "#         3rd level contains 'desturl_click', 'width' and 'origurl_tripod_com';\n",
    "#     Rules are like to be: figuring out those urls that has credible signatures, while filtering out infamous ad sites.\n",
    "    \n",
    "#     For max_depth=5 case,\n",
    "#         most of the upper level structure (nodes) changed little, affirming the principles of rules stated above;\n",
    "#         while at lower level more detailed pattern from urls are added to help, e.g. whether from developed countries,\n",
    "#         or the size of the pictures.\n",
    "    \n",
    "#     As the max_depth increased from 3 to 5, the classification performance upgrades, error rate went down.\n"
   ]
  },
  {
   "cell_type": "code",
   "execution_count": 12,
   "metadata": {
    "collapsed": false
   },
   "outputs": [
    {
     "name": "stdout",
     "output_type": "stream",
     "text": [
      "[[ 74  44]\n",
      " [  3 658]]\n"
     ]
    },
    {
     "data": {
      "image/png": "[encoded data removed]",
      "text/plain": [
       "<matplotlib.figure.Figure at 0x109217128>"
      ]
     },
     "metadata": {},
     "output_type": "display_data"
    }
   ],
   "source": [
    "# Part-II Cont.   Confusion Matrix for max_depth = 3\n",
    "def plot_conf_mat(matrix): \n",
    "    fig = plt.figure()\n",
    "    plt.clf()\n",
    "    ax = fig.add_subplot(111)\n",
    "    ax.set_aspect(1)\n",
    "    grid = plt.imshow(matrix, interpolation='nearest')\n",
    "    cb = fig.colorbar(grid)\n",
    "    plt.show()\n",
    "    \n",
    "conf_mat = confusion_matrix(y_true=y_test, y_pred=y_pred)\n",
    "print(conf_mat)\n",
    "plot_conf_mat(conf_mat)"
   ]
  },
  {
   "cell_type": "code",
   "execution_count": 15,
   "metadata": {
    "collapsed": false
   },
   "outputs": [
    {
     "name": "stdout",
     "output_type": "stream",
     "text": [
      "Random Forest out-of-bag error-rate=0.021, test error-rate=0.023\n"
     ]
    }
   ],
   "source": [
    "# Part-III: Random Forest\n",
    "forest = RandomForestClassifier(n_estimators=50, oob_score=True)\n",
    "forest.fit(X_train, y_train)\n",
    "error_rate = sum(forest.predict(X_test) != y_test) / len(y_test)\n",
    "print('Random Forest out-of-bag error-rate={:.3f}, test error-rate={:.3f}'\n",
    "      .format(1 - forest.oob_score_, error_rate))\n",
    "\n",
    "# Difference between OOB & Error-rate:\n",
    "#     The bagging-based ensemble model, random forest, is trained using bootstrap aggregation, \n",
    "#     where each new tree is fit from a bootstrap sample of the training observations z_i = (x_i, y_i). \n",
    "#     The out-of-bag (OOB) error is the average error for each z_i calculated using predictions from the trees \n",
    "#     that do not contain z_i in their respective bootstrap sample.\n",
    "#     This allows the RandomForestClassifier to be fit and validated whilst being trained.\n",
    "#\n",
    "#     On the contrary, error-rate are usually generated after training, when applying model to unseen test data;\n",
    "#     it measures the capability of the model to generalization, rather than fitting a priori (as OOB does)."
   ]
  },
  {
   "cell_type": "code",
   "execution_count": 7,
   "metadata": {
    "collapsed": false
   },
   "outputs": [
    {
     "data": {
      "text/plain": [
       "<matplotlib.figure.Figure at 0x10965a550>"
      ]
     },
     "metadata": {},
     "output_type": "display_data"
    },
    {
     "data": {
      "image/png": "[encoded data removed]",
      "text/plain": [
       "<matplotlib.figure.Figure at 0x10965a588>"
      ]
     },
     "metadata": {},
     "output_type": "display_data"
    }
   ],
   "source": [
    "top10_features = sorted(zip(forest.feature_importances_, predictors), reverse=True)[:10]\n",
    "scores, features = zip(*top10_features)\n",
    "plt.figure()\n",
    "# plt.xticks(range(1, 11), features)\n",
    "fig, ax = plt.subplots()\n",
    "ax.set_xticks(range(1, 11))\n",
    "ax.set_xticklabels(features, rotation=90)\n",
    "\n",
    "plt.plot(range(1, 11), list(scores), 'o')\n",
    "plt.show()\n",
    "\n",
    "# The preferred features given by random forests are much different from that of generated by single trees,\n",
    "# although most significant predictors such as 'desturl_com', 'width', 'url_ads' etc. still counts,\n",
    "# their rank change, while more other features are given chance to show up ('alt_here', 'desturl_ng', e.g.)."
   ]
  }
 ],
 "metadata": {
  "kernelspec": {
   "display_name": "Python 3",
   "language": "python",
   "name": "python3"
  },
  "language_info": {
   "codemirror_mode": {
    "name": "ipython",
    "version": 3
   },
   "file_extension": ".py",
   "mimetype": "text/x-python",
   "name": "python",
   "nbconvert_exporter": "python",
   "pygments_lexer": "ipython3",
   "version": "3.4.3"
  }
 },
 "nbformat": 4,
 "nbformat_minor": 0
}
