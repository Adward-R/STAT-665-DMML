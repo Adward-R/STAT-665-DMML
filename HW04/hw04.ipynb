{
 "cells": [
  {
   "cell_type": "code",
   "execution_count": 1,
   "metadata": {
    "collapsed": true
   },
   "outputs": [],
   "source": [
    "import numpy as np\n",
    "import pandas as pd\n",
    "from pandas import Series, DataFrame\n",
    "import matplotlib.pyplot as plt\n",
    "from sklearn.linear_model import LinearRegression\n",
    "from sklearn.metrics import mean_squared_error, r2_score\n",
    "from sklearn.feature_selection import SelectKBest, f_regression\n",
    "from sklearn.model_selection import cross_val_score\n",
    "from sklearn.utils import resample"
   ]
  },
  {
   "cell_type": "code",
   "execution_count": 2,
   "metadata": {},
   "outputs": [
    {
     "name": "stdout",
     "output_type": "stream",
     "text": [
      "(1) 46 states & 109 counties (NA did not count)\n(2) Missing values in each column:\n       freq\n0      103\n1675    22\n1177     1\n1174     1\n1        1\n(3) Missing values in each column:\n    freq\n0   103\n"
     ]
    },
    {
     "data": {
      "image/png": "[encoded data removed]",
      "text/plain": [
       "<matplotlib.figure.Figure at 0x10925ba58>"
      ]
     },
     "metadata": {},
     "output_type": "display_data"
    }
   ],
   "source": [
    "df = pd.read_csv('communities.csv')\n",
    "n_row, n_col = df.shape\n",
    "states, counties = Series.unique(df['state']), Series.unique(df['county'])\n",
    "print('(1) {:d} states & {:d} counties (NA did not count)'.format(len(states), len(counties)))\n",
    "\n",
    "miss_stat = df.isnull().sum()  # Series\n",
    "print('(2) Missing values in each column:\\n', miss_stat.value_counts().to_frame(name='freq'))\n",
    "\n",
    "clean_cols = [col for col, f in miss_stat.iteritems() if f == 0]\n",
    "df = df.loc[:, clean_cols]  # Discard all columns with more than 50% of the values missing\n",
    "miss_stat = df.isnull().sum()  # Series\n",
    "print('(3) Missing values in each column:\\n', miss_stat.value_counts().to_frame(name='freq'))\n",
    "\n",
    "response_name = 'ViolentCrimesPerPop'\n",
    "plt.hist(df[response_name], bins=50, normed=True)\n",
    "plt.show()"
   ]
  },
  {
   "cell_type": "code",
   "execution_count": 3,
   "metadata": {
    "collapsed": false
   },
   "outputs": [],
   "source": [
    "# Part-II\n",
    "predictors = list(df.columns)\n",
    "predictors.remove('communityname')\n",
    "predictors.remove(response_name)\n",
    "X, y = df.loc[:, predictors], df[response_name]  # X <= 1994 * 101\n",
    "n_row, n_col = X.shape\n",
    "selector = SelectKBest(score_func=f_regression, k=1)\n",
    "selector.fit(X, y)\n",
    "predictors = [pname for pname, _ in sorted(zip(predictors, selector.scores_), key=lambda x: x[1], reverse=True)] \n",
    "\n",
    "# def forward_stepwise():  # X & y & predictors implicitly passed\n",
    "#     estimator = LinearRegression()\n",
    "#     remaining = set(X.columns)\n",
    "#     # remaining.remove(response_name)\n",
    "#     selected = []\n",
    "#     best_formula = []\n",
    "#     cur_score, best_new_score = 0.0, 0.0\n",
    "#     while remaining and cur_score == best_new_score:\n",
    "#         scores_candidates = []\n",
    "#         for candidate in remaining:\n",
    "#             formula = selected + [candidate]\n",
    "#             score = estimator.fit(X.loc[:, formula], y).score(X.loc[:, formula], y)\n",
    "#             scores_candidates.append((score, candidate))\n",
    "#         scores_candidates.sort()\n",
    "#         best_new_score, best_candidate = scores_candidates.pop()\n",
    "#         if cur_score < best_new_score:\n",
    "#             remaining.remove(best_candidate)\n",
    "#             selected.append(best_candidate)\n",
    "#             cur_score = best_new_score\n",
    "#             best_formula = [_ for _ in selected]\n",
    "#     return best_formula\n",
    "\n",
    "\n",
    "def forward_stepwise():  # X & y & predictors implicitly passed\n",
    "    estimator = LinearRegression()\n",
    "    best_k, smallest_mae = 0, 1 \n",
    "    for k in range(1, n_col+1):\n",
    "        mae = - cross_val_score(estimator, X.loc[:, predictors[:k]], y, scoring='neg_mean_absolute_error').mean()\n",
    "        if mae < smallest_mae:\n",
    "            best_k, smallest_mae = k, mae\n",
    "    return predictors[:best_k]\n",
    "\n",
    "\n",
    "def backward_stepwise():  # X & y & predictors implicitly passed\n",
    "    estimator = LinearRegression()\n",
    "    best_k, smallest_mae = 0, 1 \n",
    "    for k in range(n_col, 0, -1):\n",
    "        mae = - cross_val_score(estimator, X.loc[:, predictors[:k]], y, scoring='neg_mean_absolute_error').mean()\n",
    "        if mae < smallest_mae:\n",
    "            best_k, smallest_mae = k, mae\n",
    "    return predictors[:best_k]\n",
    "\n",
    "# best_preds = backward_stepwise()  # 100 predictors\n",
    "# best_preds = backward_stepwise()\n",
    "# print(len(best_preds))\n",
    "\n",
    "\n",
    "# As Python does not have corresponding module for bi-directional stepwise model selection,\n",
    "# here I actually made use of sklearn.model_selection.SelectKBest \n",
    "def bidirectional_stepwise():\n",
    "    estimator = LinearRegression()\n",
    "    best_k, smallest_mae = 0, 1\n",
    "    for k in range(n_col, 0, -1):\n",
    "        X_new = SelectKBest(k=k).fit_transform(X, y)\n",
    "        mae = - cross_val_score(estimator, X_new, y, scoring='neg_mean_absolute_error').mean()\n",
    "        if mae < smallest_mae:\n",
    "            best_k, smallest_mae = k, mae\n",
    "    return predictors[:best_k]\n",
    "\n",
    "\n",
    "def stepwise_model_select(funcs):  # with report functionality\n",
    "    estimator = LinearRegression()\n",
    "    mxfunc, mxscore, mxselect = None, 0, None\n",
    "    for func in funcs:\n",
    "        selected = func()\n",
    "        r2_score = cross_val_score(estimator, X.loc[:, selected], y, scoring='r2').mean()\n",
    "        print('Method {}: model-size {}, r2-score {}'.format(func.__name__, len(selected), r2_score))\n",
    "        if r2_score > mxscore:\n",
    "            mxfunc, mxscore, mxselect = func, r2_score, selected\n",
    "    print('\\n{} achieves highest r2 score: {}\\n'.format(mxfunc.__name__, mxscore))\n",
    "    return mxselect"
   ]
  },
  {
   "cell_type": "code",
   "execution_count": 4,
   "metadata": {},
   "outputs": [
    {
     "name": "stderr",
     "output_type": "stream",
     "text": [
      "/Library/Frameworks/Python.framework/Versions/3.4/lib/python3.4/site-packages/scipy/linalg/basic.py:884: RuntimeWarning: internal gelsd driver lwork query error, required iwork dimension not returned. This is likely the result of LAPACK bug 0038, fixed in LAPACK 3.2.2 (released July 21, 2010). Falling back to 'gelss' driver.\n  warnings.warn(mesg, RuntimeWarning)\n"
     ]
    },
    {
     "name": "stdout",
     "output_type": "stream",
     "text": [
      "Method forward_stepwise: model-size 37, r2-score 0.6364151740937912\n"
     ]
    },
    {
     "name": "stdout",
     "output_type": "stream",
     "text": [
      "Method backward_stepwise: model-size 37, r2-score 0.6364151740937912\n"
     ]
    },
    {
     "name": "stdout",
     "output_type": "stream",
     "text": [
      "Method bidirectional_stepwise: model-size 35, r2-score 0.6327519563100504\n\nforward_stepwise achieves highest r2 score: 0.6364151740937912\nFinally picked features:\n 0             PctKids2Par\n1                PctIlleg\n2              PctFam2Par\n3            racePctWhite\n4        PctYoungKids2Par\n5             PctTeen2Par\n6            racepctblack\n7              pctWInvInc\n8             pctWPubAsst\n9            FemalePctDiv\n10            TotalPctDiv\n11        PctPersOwnOccup\n12         MalePctDivorce\n13         PctPopUnderPov\n14          PctUnemployed\n15         PctHousNoPhone\n16           PctNotHSGrad\n17       PctVacantBoarded\n18         PctHousLess3BR\n19               NumIlleg\n20          PctHousOwnOcc\n21       PctPersDenseHous\n22            NumUnderPov\n23              medFamInc\n24              medIncome\n25             HousVacant\n26        PctLess9thGrade\n27        PctLargHouseFam\n28          NumInShelters\n29             population\n30         PctWOFullPlumb\n31              numbUrban\n32               MedNumBR\n33              perCapInc\n34    LemasPctOfficDrugUn\n35              NumStreet\n36       PctOccupMgmtProf\ndtype: object\n"
     ]
    },
    {
     "data": {
      "text/plain": [
       "'\\nFrom the significant predictors we can find that \\nthe greater percentage of a complete famliy is usually a boost to greater society environment,\\nand percentage of various race also have an impact on crime rates.   \\n'"
      ]
     },
     "execution_count": 4,
     "metadata": {},
     "output_type": "execute_result"
    }
   ],
   "source": [
    "# Part-III\n",
    "\n",
    "# (1) Choosing optimal model & reasoning\n",
    "features = stepwise_model_select((forward_stepwise, backward_stepwise, bidirectional_stepwise))\n",
    "print('Finally picked features:\\n', Series(features))\n",
    "\n",
    "'''\n",
    "From the significant predictors we can find that \n",
    "the greater percentage of a complete famliy is usually a boost to greater society environment,\n",
    "and percentage of various race also have an impact on crime rates.   \n",
    "'''"
   ]
  },
  {
   "cell_type": "code",
   "execution_count": 5,
   "metadata": {
    "collapsed": false
   },
   "outputs": [
    {
     "name": "stdout",
     "output_type": "stream",
     "text": [
      "Estimated Test MSE: 0.018972\n"
     ]
    }
   ],
   "source": [
    "# Part-III\n",
    "\n",
    "# (2) 10-fold cv\n",
    "estimator = LinearRegression()\n",
    "sum_mse = 0.0\n",
    "for fold in range(1, 11):\n",
    "    test_rows = X['fold'] == fold\n",
    "    train_rows = X['fold'] != fold\n",
    "    X_train, X_test = X.loc[train_rows, features], X.loc[test_rows, features]\n",
    "    y_true = y[test_rows]\n",
    "    y_pred = estimator.fit(X_train, y[train_rows]).predict(X_test)\n",
    "    sum_mse += mean_squared_error(y_true, y_pred)\n",
    "print('Estimated Test MSE: {:f}'.format(sum_mse / 10.0))"
   ]
  },
  {
   "cell_type": "code",
   "execution_count": 6,
   "metadata": {},
   "outputs": [
    {
     "data": {
      "image/png": "[encoded data removed]",
      "text/plain": [
       "<matplotlib.figure.Figure at 0x10982ef98>"
      ]
     },
     "metadata": {},
     "output_type": "display_data"
    },
    {
     "name": "stdout",
     "output_type": "stream",
     "text": [
      "90% Confidential Interval: (0.7168288187074033, 0.8842050174183975)\n"
     ]
    }
   ],
   "source": [
    "# (3) Bootstrap sampling & get confidential interval\n",
    "scores = []\n",
    "for i in range(1000):\n",
    "    X_sub, y_sub = resample(X.loc[:, features], y, n_samples=100)\n",
    "    score = r2_score(y_sub, LinearRegression().fit(X_sub, y_sub).predict(X_sub))\n",
    "    scores.append(score)\n",
    "heights, bins, _ = plt.hist(scores, bins=20, normed=True)\n",
    "plt.show()\n",
    "\n",
    "\n",
    "def get_conf_interval(heights, bins, ratio):\n",
    "    threshold = sum(heights) * ratio\n",
    "    lo = heights.argmax()\n",
    "    hi = lo + 1\n",
    "    cur_sum = heights[lo]\n",
    "    while cur_sum < threshold:\n",
    "        if lo == 0 or (hi < len(heights) and heights[lo-1] < heights[hi]):\n",
    "            cur_sum += heights[hi]\n",
    "            hi += 1\n",
    "        else:\n",
    "            cur_sum += heights[lo-1]\n",
    "            lo -= 1\n",
    "    return bins[lo], bins[hi]\n",
    "\n",
    "lo, hi = get_conf_interval(heights, bins, 0.9)\n",
    "print('90% Confidential Interval: ({}, {})'.format(lo, hi))"
   ]
  }
 ],
 "metadata": {
  "kernelspec": {
   "display_name": "Python 3",
   "language": "python",
   "name": "python3"
  },
  "language_info": {
   "codemirror_mode": {
    "name": "ipython",
    "version": 3.0
   },
   "file_extension": ".py",
   "mimetype": "text/x-python",
   "name": "python",
   "nbconvert_exporter": "python",
   "pygments_lexer": "ipython3",
   "version": "3.4.3"
  }
 },
 "nbformat": 4,
 "nbformat_minor": 0
}