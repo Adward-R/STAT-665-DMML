{
 "cells": [
  {
   "cell_type": "code",
   "execution_count": 48,
   "metadata": {
    "collapsed": true
   },
   "outputs": [],
   "source": [
    "import numpy as np\n",
    "# import scipy\n",
    "import pandas as pd\n",
    "from pandas import Series, DataFrame\n",
    "from sklearn.feature_selection import RFECV\n",
    "from sklearn.linear_model import LinearRegression, Lasso\n",
    "from sklearn.model_selection import cross_val_score, ShuffleSplit\n",
    "from sklearn.metrics import mean_squared_error\n",
    "# from sklearn.preprocessing import Imputer\n",
    "from sklearn.preprocessing import MinMaxScaler\n",
    "from sklearn.feature_selection import f_regression, SelectKBest\n",
    "import heapq"
   ]
  },
  {
   "cell_type": "code",
   "execution_count": 73,
   "metadata": {
    "collapsed": false
   },
   "outputs": [],
   "source": [
    "# Import data, merge data from weather.csv to other sources\n",
    "df_train = pd.read_csv('citibike_train.csv')\n",
    "df_weather = pd.read_csv('weather.csv')\n",
    "df_train = pd.merge(df_train, df_weather)  # inner-merge on 'date'\n",
    "col_names = ('holiday', 'n_stations', 'AWND', 'PRCP', 'SNOW', 'SNWD', 'TMAX', 'TMIN')\n",
    "\n",
    "# Create X, y that splitted from merged raw data, which are predictors(features) & response variables, respectively\n",
    "X = df_train.loc[:, col_names]\n",
    "# Add we scale the value of predictors to let k-NN make sense\n",
    "scaler = MinMaxScaler()\n",
    "X.loc[:, col_names] = scaler.fit_transform(X.loc[:, col_names])\n",
    "y = df_train['trips'].values"
   ]
  },
  {
   "cell_type": "code",
   "execution_count": 59,
   "metadata": {
    "collapsed": false
   },
   "outputs": [],
   "source": [
    "# k-NN Implementation as requested in Part-I\n",
    "def myknn(xtrain, xtest, ytrain, k):\n",
    "    ytest = []\n",
    "    for sample in xtest:\n",
    "        pq = [(np.linalg.norm(sample - x), y) for x, y in zip(xtrain, ytrain)]\n",
    "        heapq.heapify(pq)\n",
    "        # nsmallest automatically took care of k > len(pq) situations\n",
    "        ytest.append(sum([y for _, y in heapq.nsmallest(k, pq)]) / k)\n",
    "    return np.array(ytest)\n",
    "\n",
    "# For each hyper-parameter k, evaluate the performance of k-NN regression algorithm using metrics MSE\n",
    "def knn_eval(X, y, k):\n",
    "    mse, cv = [], ShuffleSplit(n_splits=3, test_size=0.2, random_state=0)\n",
    "    for ind_train, ind_test in cv.split(y):\n",
    "        y_hat = myknn(X[ind_train], X[ind_test], y[ind_train], k)\n",
    "        mse.append(mean_squared_error(y_hat, y[ind_test]))\n",
    "    return np.array(mse).mean()"
   ]
  },
  {
   "cell_type": "code",
   "execution_count": 61,
   "metadata": {
    "collapsed": false
   },
   "outputs": [
    {
     "name": "stdout",
     "output_type": "stream",
     "text": [
      "k = 1 , MSE = 36097413.7629\n",
      "k = 2 , MSE = 31817278.1957\n",
      "k = 3 , MSE = 27579732.7664\n",
      "k = 4 , MSE = 25534499.9962\n",
      "k = 5 , MSE = 24973220.943\n",
      "k = 6 , MSE = 25231560.2922\n",
      "k = 7 , MSE = 25105194.0267\n",
      "k = 8 , MSE = 25724942.4863\n",
      "k = 9 , MSE = 25685613.7176\n",
      "k = 10 , MSE = 26445754.0921\n",
      "k = 11 , MSE = 26819659.6065\n",
      "k = 12 , MSE = 26939161.1318\n",
      "k = 13 , MSE = 27339775.7475\n",
      "k = 14 , MSE = 27577721.4778\n"
     ]
    }
   ],
   "source": [
    "# Call knn_eval() to find out the optimal hyper-parameter k, which is k=5\n",
    "for k in range(1, 15):\n",
    "    print('k =', k, ', MSE =', knn_eval(X.values, y, k))"
   ]
  },
  {
   "cell_type": "code",
   "execution_count": 62,
   "metadata": {
    "collapsed": false
   },
   "outputs": [
    {
     "name": "stdout",
     "output_type": "stream",
     "text": [
      "               f_scores       p_values\n",
      "holiday       31.330383   2.811084e-08\n",
      "n_stations    57.975122   6.136093e-14\n",
      "AWND           3.013424   8.288599e-02\n",
      "PRCP          76.429654   9.516125e-18\n",
      "SNOW          77.979643   4.592917e-18\n",
      "SNWD         278.913381   2.072658e-55\n",
      "TMAX        1357.607275  2.223230e-188\n",
      "TMIN        1177.324491  4.217873e-171 \n",
      "\n",
      "n_predictors = 8 , MSE = 33635189.8286\n",
      "n_predictors = 7 , MSE = 33825871.9043\n",
      "n_predictors = 6 , MSE = 36075188.8484\n",
      "n_predictors = 5 , MSE = 53137076.0568\n",
      "n_predictors = 4 , MSE = 60436713.2585\n",
      "n_predictors = 3 , MSE = 61306330.0529\n",
      "n_predictors = 2 , MSE = 64852674.2832\n",
      "n_predictors = 1 , MSE = 64542467.085\n"
     ]
    }
   ],
   "source": [
    "\n",
    "df_scores = DataFrame(index=col_names)\n",
    "df_scores['f_scores'], df_scores['p_values'] = f_regression(X, y)  # ANOVA\n",
    "print(df_scores, '\\n')\n",
    "# selector = RFECV(LinearRegression(), step=1, cv=5)\n",
    "for _k in range(8, 0, -1):\n",
    "    selector = SelectKBest(score_func=f_regression, k=_k)\n",
    "    predictors = X.columns[selector.fit(X, y).get_support()]\n",
    "    score =  - cross_val_score(LinearRegression(), X[predictors],\n",
    "                                 y, cv=5, scoring='neg_mean_squared_error').mean()\n",
    "    print('n_predictors =', _k, ', MSE =', score)"
   ]
  },
  {
   "cell_type": "code",
   "execution_count": 76,
   "metadata": {
    "collapsed": false
   },
   "outputs": [],
   "source": [
    "# As optimal k-NN seemed better than linear models (with MSE=24973220.943), \n",
    "# we select k-NN with k=5 to predict test data.\n",
    "df_test = pd.merge(pd.read_csv('citibike_test.csv'), df_weather)\n",
    "X_test = scaler.transform(df_test.loc[:, col_names])\n",
    "y_predict = myknn(X[predictors].values, X_test, y, 5)\n",
    "DataFrame({'date': df_test['date'], 'trips': y_predict}).to_csv('HW1_kd538.csv')"
   ]
  }
 ],
 "metadata": {
  "kernelspec": {
   "display_name": "Python 3",
   "language": "python",
   "name": "python3"
  },
  "language_info": {
   "codemirror_mode": {
    "name": "ipython",
    "version": 3
   },
   "file_extension": ".py",
   "mimetype": "text/x-python",
   "name": "python",
   "nbconvert_exporter": "python",
   "pygments_lexer": "ipython3",
   "version": "3.4.3"
  }
 },
 "nbformat": 4,
 "nbformat_minor": 2
}
